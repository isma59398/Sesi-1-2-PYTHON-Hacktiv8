{
 "cells": [
  {
   "cell_type": "code",
   "execution_count": 1,
   "id": "db46d278",
   "metadata": {},
   "outputs": [
    {
     "name": "stdout",
     "output_type": "stream",
     "text": [
      "ya benar\n",
      "ya benar\n",
      "ya benar\n"
     ]
    }
   ],
   "source": [
    "x = 2\n",
    "y = 3 \n",
    "if x<y:\n",
    "    print('ya benar')\n",
    "if x>y:\n",
    "    print('ya benar')\n",
    "if x==y:\n",
    "    print('ya benar')\n",
    "if x<=y:\n",
    "    print('ya benar')\n",
    "if ('we' in ['we', 'wa', 'wo']):\n",
    "    print('ya benar')"
   ]
  },
  {
   "cell_type": "code",
   "execution_count": 4,
   "id": "fd8fa997",
   "metadata": {},
   "outputs": [
    {
     "name": "stdout",
     "output_type": "stream",
     "text": [
      "True\n"
     ]
    }
   ],
   "source": [
    "print('we' in ['we', 'wa', 'wo'])"
   ]
  },
  {
   "cell_type": "code",
   "execution_count": 8,
   "id": "e80f3c17",
   "metadata": {},
   "outputs": [
    {
     "name": "stdout",
     "output_type": "stream",
     "text": [
      "ya benar\n"
     ]
    }
   ],
   "source": [
    "#python perlu yang namanya indentasi\n",
    "x = 2\n",
    "y = 3 \n",
    "if x<y:\n",
    "    if y<x:\n",
    "        pass\n",
    "    print('ya benar')"
   ]
  },
  {
   "cell_type": "code",
   "execution_count": 9,
   "id": "7aa471ea",
   "metadata": {},
   "outputs": [
    {
     "name": "stdout",
     "output_type": "stream",
     "text": [
      "mahal\n"
     ]
    }
   ],
   "source": [
    "harga_jeruk = 50000\n",
    "standar_harga = 30000\n",
    "#apbila lebih dari standar harga maka jeruk itu mahal dan apabila kurang dari standar maka jeruk itu murah\n",
    "if harga_jeruk>=standar_harga:\n",
    "    print('mahal')\n",
    "elif harga_jeruk<standar_harga:\n",
    "    print('murah')\n",
    "elif harga_jeruk==standar_harga:\n",
    "    print('biasa')"
   ]
  },
  {
   "cell_type": "code",
   "execution_count": 15,
   "id": "d7daea5c",
   "metadata": {},
   "outputs": [
    {
     "name": "stdout",
     "output_type": "stream",
     "text": [
      "biasa\n"
     ]
    }
   ],
   "source": [
    "harga_jeruk = 30000\n",
    "standar_harga = 30000\n",
    "#apbila lebih dari standar harga maka jeruk itu mahal dan apabila kurang dari standar maka jeruk itu murah\n",
    "if harga_jeruk>standar_harga:\n",
    "    print('mahal')\n",
    "elif harga_jeruk<standar_harga:\n",
    "    print('murah')\n",
    "else:\n",
    "    print('biasa')"
   ]
  },
  {
   "cell_type": "code",
   "execution_count": null,
   "id": "38346b8c",
   "metadata": {},
   "outputs": [],
   "source": [
    "harga_jeruk = 70000\n",
    "standar_harga = 30000\n",
    "#apbila lebih dari standar harga maka jeruk itu mahal dan apabila kurang dari standar maka jeruk itu murah\n",
    "if harga_jeruk>standar_harga:\n",
    "    print('mahal')\n",
    "elif harga_jeruk<standar_harga:\n",
    "    print('murah')"
   ]
  },
  {
   "cell_type": "code",
   "execution_count": 19,
   "id": "f893164f",
   "metadata": {},
   "outputs": [
    {
     "name": "stdout",
     "output_type": "stream",
     "text": [
      "89\n",
      "murah\n"
     ]
    }
   ],
   "source": [
    "harga_jeruk = int(input())\n",
    "standar_harga = 30000\n",
    "#apbila lebih dari standar harga maka jeruk itu mahal dan apabila kurang dari standar maka jeruk itu murah\n",
    "if harga_jeruk>standar_harga:\n",
    "    print('mahal')\n",
    "elif harga_jeruk<standar_harga:\n",
    "    print('murah')"
   ]
  },
  {
   "cell_type": "code",
   "execution_count": null,
   "id": "cb659300",
   "metadata": {},
   "outputs": [],
   "source": []
  },
  {
   "cell_type": "code",
   "execution_count": 6,
   "id": "890da061",
   "metadata": {},
   "outputs": [
    {
     "ename": "SyntaxError",
     "evalue": "invalid syntax (2602007351.py, line 14)",
     "output_type": "error",
     "traceback": [
      "\u001b[1;36m  File \u001b[1;32m\"C:\\Users\\ASUS\\AppData\\Local\\Temp\\ipykernel_7676\\2602007351.py\"\u001b[1;36m, line \u001b[1;32m14\u001b[0m\n\u001b[1;33m    total bayar = total_pembelian - diskon\u001b[0m\n\u001b[1;37m          ^\u001b[0m\n\u001b[1;31mSyntaxError\u001b[0m\u001b[1;31m:\u001b[0m invalid syntax\n"
     ]
    }
   ],
   "source": [
    "harga = 3000\n",
    "jumlah_pisang = int(input('jumlah pisang yang akan dibeli:'))\n",
    "\n",
    "total_pembelian = harga_pisang * jumlah_pisang;\n",
    "\n",
    "if total_pembelian >= 100000:\n",
    "    diskon = 0.1 * total_pembelian\n",
    "    total_bayar = total_pembelian - diskon\n",
    "    print('dapat 10% sebesar', diskon)\n",
    "    print('total yang harus dibayar adalah', total_bayar)\n",
    "    \n",
    "elif total_pembelian >= 50000:\n",
    "    diskon = 0.05 * total_pembelian\n",
    "    total bayar = total_pembelian - diskon\n",
    "    print('anda mendapatkan diskon 5% sebesa', diskon)\n",
    "    print('total yang harus dibayar adalah', total_bayar)\n",
    "else:\n",
    "    total_bayar = total+pembelian\n",
    "    print('total yang harus dibayar adalah', total_bayar)\n",
    "    \n",
    "print('anda membeli', jumlah_pisang, 'buah pisang')\n"
   ]
  },
  {
   "cell_type": "code",
   "execution_count": 24,
   "id": "78acb210",
   "metadata": {},
   "outputs": [
    {
     "name": "stdout",
     "output_type": "stream",
     "text": [
      "tua\n"
     ]
    }
   ],
   "source": [
    "umur = 40\n",
    "s = 'tua' if umur > 35 else 'muda'\n",
    "print(s)"
   ]
  },
  {
   "cell_type": "code",
   "execution_count": 17,
   "id": "56fc6c8f",
   "metadata": {},
   "outputs": [
    {
     "name": "stdout",
     "output_type": "stream",
     "text": [
      "gaji anda: 100000\n",
      "lama kerja:10\n",
      "anda tidak dapat bonus\n"
     ]
    }
   ],
   "source": [
    "x = float(input('gaji anda: '))\n",
    "lama_kerja = int(input('lama kerja:'))\n",
    "gaji = x * 0.01\n",
    "\n",
    "if lama_kerja > 10:\n",
    "    bonus = 0.1 * gaji\n",
    "    total = x + bonus\n",
    "    print('anda dapat bonus', 'total gaji', gaji)\n",
    "else:\n",
    "    print('anda tidak dapat bonus')"
   ]
  },
  {
   "cell_type": "code",
   "execution_count": 16,
   "id": "fdb212c0",
   "metadata": {},
   "outputs": [
    {
     "name": "stdout",
     "output_type": "stream",
     "text": [
      "foo\n",
      "bar\n",
      "baz\n",
      "qux\n",
      "quux\n",
      "corge\n"
     ]
    }
   ],
   "source": [
    "for i in ['foo', 'bar', 'baz', 'qux', 'quux', 'corge']:\n",
    "    print(i)"
   ]
  },
  {
   "cell_type": "code",
   "execution_count": 45,
   "id": "3d6041ea",
   "metadata": {},
   "outputs": [
    {
     "name": "stdout",
     "output_type": "stream",
     "text": [
      "4\n",
      "3\n",
      "2\n",
      "tinggal 1\n",
      "0\n"
     ]
    }
   ],
   "source": [
    "apel = 5\n",
    "while apel>0:\n",
    "    apel-=1\n",
    "    if apel ==1:\n",
    "        print('tinggal 1')\n",
    "    else:\n",
    "        print(apel)"
   ]
  },
  {
   "cell_type": "code",
   "execution_count": 44,
   "id": "e1aa1cf7",
   "metadata": {},
   "outputs": [
    {
     "name": "stdout",
     "output_type": "stream",
     "text": [
      "4\n",
      "3\n",
      "loop ended\n"
     ]
    }
   ],
   "source": [
    "apel = 5\n",
    "while apel>0:\n",
    "    apel-=1\n",
    "    if apel ==2:\n",
    "        break\n",
    "    print(apel)\n",
    "print('loop ended')"
   ]
  },
  {
   "cell_type": "code",
   "execution_count": 43,
   "id": "534a2283",
   "metadata": {},
   "outputs": [
    {
     "name": "stdout",
     "output_type": "stream",
     "text": [
      "son\n"
     ]
    }
   ],
   "source": [
    "umur = 17\n",
    "gender = 'm'\n",
    "if umur < 18:\n",
    "    if gender == 'm':\n",
    "        print('son')\n",
    "    else:\n",
    "        print('daughter')\n",
    "if umur >=18 and umur <65:\n",
    "    if gender == 'm':\n",
    "        print('dad')\n",
    "    else:\n",
    "        print('mom')\n"
   ]
  },
  {
   "cell_type": "code",
   "execution_count": 50,
   "id": "3a8ce141",
   "metadata": {},
   "outputs": [
    {
     "name": "stdout",
     "output_type": "stream",
     "text": [
      "b budi\n",
      "u budi\n",
      "d budi\n",
      "i budi\n"
     ]
    }
   ],
   "source": [
    "b = ['budi', 'joko', 'anwar']\n",
    "for i in b:\n",
    "    if i =='joko':\n",
    "        break\n",
    "    for k in i:\n",
    "        print(k,i)"
   ]
  },
  {
   "cell_type": "code",
   "execution_count": 49,
   "id": "6e1ffae8",
   "metadata": {},
   "outputs": [
    {
     "name": "stdout",
     "output_type": "stream",
     "text": [
      "bekasi\n",
      "jakarta\n",
      "medan\n"
     ]
    }
   ],
   "source": [
    "dictionary_a = {'a':'bekasi', 'b':'jakarta', 'c':'medan'}\n",
    "for i in dictionary_a:\n",
    "    print(dictionary_a[i])\n"
   ]
  },
  {
   "cell_type": "code",
   "execution_count": 53,
   "id": "d5e1f08c",
   "metadata": {},
   "outputs": [
    {
     "name": "stdout",
     "output_type": "stream",
     "text": [
      "4\n",
      "10\n",
      "18\n"
     ]
    }
   ],
   "source": [
    "a = [1,2,3]\n",
    "b = [4,5,6]\n",
    "for i,j in zip(a,b):\n",
    "    print(i*j)"
   ]
  },
  {
   "cell_type": "code",
   "execution_count": 65,
   "id": "f4285cab",
   "metadata": {},
   "outputs": [
    {
     "name": "stdout",
     "output_type": "stream",
     "text": [
      "1\n",
      "genap\n",
      "3\n",
      "genap\n",
      "5\n",
      "genap\n",
      "7\n",
      "genap\n",
      "9\n",
      "genap\n",
      "11\n",
      "genap\n",
      "13\n",
      "genap\n",
      "15\n",
      "genap\n",
      "17\n",
      "genap\n",
      "19\n",
      "genap\n"
     ]
    }
   ],
   "source": [
    "i = 1\n",
    "while i <= 20:\n",
    "    if i % 2 == 1:\n",
    "        print(i)\n",
    "    else:\n",
    "        print('genap')\n",
    "    i+= 1\n",
    "    "
   ]
  },
  {
   "cell_type": "code",
   "execution_count": 15,
   "id": "1abeacac",
   "metadata": {},
   "outputs": [
    {
     "name": "stdout",
     "output_type": "stream",
     "text": [
      "masukkan angka: 20\n",
      "1 \n",
      "1 2 \n",
      "1 2 3 \n",
      "1 2 3 4 \n",
      "1 2 3 4 5 \n",
      "1 2 3 4 5 6 \n",
      "1 2 3 4 5 6 7 \n",
      "1 2 3 4 5 6 7 8 \n",
      "1 2 3 4 5 6 7 8 9 \n",
      "1 2 3 4 5 6 7 8 9 10 \n",
      "1 2 3 4 5 6 7 8 9 10 11 \n",
      "1 2 3 4 5 6 7 8 9 10 11 12 \n",
      "1 2 3 4 5 6 7 8 9 10 11 12 13 \n",
      "1 2 3 4 5 6 7 8 9 10 11 12 13 14 \n",
      "1 2 3 4 5 6 7 8 9 10 11 12 13 14 15 \n",
      "1 2 3 4 5 6 7 8 9 10 11 12 13 14 15 16 \n",
      "1 2 3 4 5 6 7 8 9 10 11 12 13 14 15 16 17 \n",
      "1 2 3 4 5 6 7 8 9 10 11 12 13 14 15 16 17 18 \n",
      "1 2 3 4 5 6 7 8 9 10 11 12 13 14 15 16 17 18 19 \n",
      "1 2 3 4 5 6 7 8 9 10 11 12 13 14 15 16 17 18 19 20 \n"
     ]
    }
   ],
   "source": [
    "x = int(input('masukkan angka: '))\n",
    "for x in range(1, x+1):\n",
    "    for j in range(1, x+1):\n",
    "        print(j, end = ' ')\n",
    "    print()"
   ]
  },
  {
   "cell_type": "code",
   "execution_count": 11,
   "id": "1bf0ed1a",
   "metadata": {},
   "outputs": [
    {
     "name": "stdout",
     "output_type": "stream",
     "text": [
      "masukkan angka = 5\n"
     ]
    },
    {
     "ename": "TypeError",
     "evalue": "'i' is an invalid keyword argument for print()",
     "output_type": "error",
     "traceback": [
      "\u001b[1;31m---------------------------------------------------------------------------\u001b[0m",
      "\u001b[1;31mTypeError\u001b[0m                                 Traceback (most recent call last)",
      "\u001b[1;32m~\\AppData\\Local\\Temp\\ipykernel_10440\\2875816337.py\u001b[0m in \u001b[0;36m<module>\u001b[1;34m\u001b[0m\n\u001b[0;32m      3\u001b[0m \u001b[1;33m\u001b[0m\u001b[0m\n\u001b[0;32m      4\u001b[0m \u001b[1;32mwhile\u001b[0m \u001b[0mi\u001b[0m \u001b[1;33m<=\u001b[0m\u001b[0mx\u001b[0m\u001b[1;33m:\u001b[0m\u001b[1;33m\u001b[0m\u001b[1;33m\u001b[0m\u001b[0m\n\u001b[1;32m----> 5\u001b[1;33m     \u001b[0mprint\u001b[0m\u001b[1;33m(\u001b[0m\u001b[0mi\u001b[0m\u001b[1;33m=\u001b[0m\u001b[0mi\u001b[0m\u001b[1;33m+\u001b[0m\u001b[1;36m1\u001b[0m\u001b[1;33m)\u001b[0m\u001b[1;33m\u001b[0m\u001b[1;33m\u001b[0m\u001b[0m\n\u001b[0m",
      "\u001b[1;31mTypeError\u001b[0m: 'i' is an invalid keyword argument for print()"
     ]
    }
   ],
   "source": [
    "i=1\n",
    "x=int(input('masukkan angka = '))\n",
    "\n",
    "while i <=x:\n",
    "    print(i=i+1)"
   ]
  },
  {
   "cell_type": "code",
   "execution_count": null,
   "id": "24aebab7",
   "metadata": {},
   "outputs": [],
   "source": []
  }
 ],
 "metadata": {
  "kernelspec": {
   "display_name": "Python 3 (ipykernel)",
   "language": "python",
   "name": "python3"
  },
  "language_info": {
   "codemirror_mode": {
    "name": "ipython",
    "version": 3
   },
   "file_extension": ".py",
   "mimetype": "text/x-python",
   "name": "python",
   "nbconvert_exporter": "python",
   "pygments_lexer": "ipython3",
   "version": "3.9.13"
  }
 },
 "nbformat": 4,
 "nbformat_minor": 5
}
