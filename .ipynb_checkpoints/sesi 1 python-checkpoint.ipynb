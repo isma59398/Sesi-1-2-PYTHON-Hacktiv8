{
 "cells": [
  {
   "cell_type": "code",
   "execution_count": 1,
   "id": "fa4114bc",
   "metadata": {},
   "outputs": [
    {
     "name": "stdout",
     "output_type": "stream",
     "text": [
      "<class 'int'>\n"
     ]
    }
   ],
   "source": [
    "print(type(5))"
   ]
  },
  {
   "cell_type": "code",
   "execution_count": 4,
   "id": "4b7a0cbd",
   "metadata": {},
   "outputs": [
    {
     "name": "stdout",
     "output_type": "stream",
     "text": [
      "3.5\n"
     ]
    }
   ],
   "source": [
    "print(3.5)"
   ]
  },
  {
   "cell_type": "code",
   "execution_count": 5,
   "id": "894f2418",
   "metadata": {},
   "outputs": [
    {
     "name": "stdout",
     "output_type": "stream",
     "text": [
      "<class 'float'>\n"
     ]
    }
   ],
   "source": [
    "print(type(3.5))"
   ]
  },
  {
   "cell_type": "code",
   "execution_count": 8,
   "id": "ddb3f048",
   "metadata": {},
   "outputs": [
    {
     "name": "stdout",
     "output_type": "stream",
     "text": [
      "0.00042\n"
     ]
    }
   ],
   "source": [
    "print(4.2e-4)"
   ]
  },
  {
   "cell_type": "code",
   "execution_count": 9,
   "id": "2e612485",
   "metadata": {},
   "outputs": [
    {
     "name": "stdout",
     "output_type": "stream",
     "text": [
      "<class 'float'>\n"
     ]
    }
   ],
   "source": [
    "print(type(4.2e9))"
   ]
  },
  {
   "cell_type": "code",
   "execution_count": 15,
   "id": "e4db258c",
   "metadata": {},
   "outputs": [
    {
     "name": "stdout",
     "output_type": "stream",
     "text": [
      "python-ks-12 python-ks-12\n"
     ]
    }
   ],
   "source": [
    "clas= 'python-ks-11'\n",
    "clas= 'python-ks-12'\n",
    "print(clas, clas)"
   ]
  },
  {
   "cell_type": "code",
   "execution_count": 17,
   "id": "5e42a947",
   "metadata": {},
   "outputs": [
    {
     "name": "stdout",
     "output_type": "stream",
     "text": [
      "-65\n",
      "115\n",
      "0.2777777777777778\n",
      "2250\n",
      "0\n"
     ]
    }
   ],
   "source": [
    "c = 25\n",
    "d = 90\n",
    "print (c-d)\n",
    "print (c+d)\n",
    "print (c/d)\n",
    "print (c*d)\n",
    "print (c//d)"
   ]
  },
  {
   "cell_type": "code",
   "execution_count": 18,
   "id": "7bd1c223",
   "metadata": {},
   "outputs": [
    {
     "name": "stdout",
     "output_type": "stream",
     "text": [
      "2.6666666666666665\n",
      "2\n"
     ]
    }
   ],
   "source": [
    "print(8/3)\n",
    "print(8%3)"
   ]
  },
  {
   "cell_type": "code",
   "execution_count": 19,
   "id": "ea826a99",
   "metadata": {},
   "outputs": [
    {
     "name": "stdout",
     "output_type": "stream",
     "text": [
      "125\n"
     ]
    }
   ],
   "source": [
    "print(5**3)"
   ]
  },
  {
   "cell_type": "markdown",
   "id": "0604bcce",
   "metadata": {},
   "source": []
  }
 ],
 "metadata": {
  "kernelspec": {
   "display_name": "Python 3 (ipykernel)",
   "language": "python",
   "name": "python3"
  },
  "language_info": {
   "codemirror_mode": {
    "name": "ipython",
    "version": 3
   },
   "file_extension": ".py",
   "mimetype": "text/x-python",
   "name": "python",
   "nbconvert_exporter": "python",
   "pygments_lexer": "ipython3",
   "version": "3.9.13"
  }
 },
 "nbformat": 4,
 "nbformat_minor": 5
}
