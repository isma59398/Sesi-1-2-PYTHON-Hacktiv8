{
 "cells": [
  {
   "cell_type": "code",
   "execution_count": 1,
   "id": "3013f17f",
   "metadata": {},
   "outputs": [
    {
     "name": "stdout",
     "output_type": "stream",
     "text": [
      "<class 'int'>\n"
     ]
    }
   ],
   "source": [
    "print(type(5))"
   ]
  },
  {
   "cell_type": "code",
   "execution_count": 4,
   "id": "afbd5216",
   "metadata": {},
   "outputs": [
    {
     "name": "stdout",
     "output_type": "stream",
     "text": [
      "3.5\n"
     ]
    }
   ],
   "source": [
    "print(3.5)"
   ]
  },
  {
   "cell_type": "code",
   "execution_count": 5,
   "id": "36c1bfeb",
   "metadata": {},
   "outputs": [
    {
     "name": "stdout",
     "output_type": "stream",
     "text": [
      "<class 'float'>\n"
     ]
    }
   ],
   "source": [
    "print(type(3.5))"
   ]
  },
  {
   "cell_type": "code",
   "execution_count": 8,
   "id": "54072bed",
   "metadata": {},
   "outputs": [
    {
     "name": "stdout",
     "output_type": "stream",
     "text": [
      "0.00042\n"
     ]
    }
   ],
   "source": [
    "print(4.2e-4)"
   ]
  },
  {
   "cell_type": "code",
   "execution_count": 9,
   "id": "32e3e8c1",
   "metadata": {},
   "outputs": [
    {
     "name": "stdout",
     "output_type": "stream",
     "text": [
      "<class 'float'>\n"
     ]
    }
   ],
   "source": [
    "print(type(4.2e9))"
   ]
  },
  {
   "cell_type": "code",
   "execution_count": 15,
   "id": "df8fd86f",
   "metadata": {},
   "outputs": [
    {
     "name": "stdout",
     "output_type": "stream",
     "text": [
      "python-ks-12 python-ks-12\n"
     ]
    }
   ],
   "source": [
    "clas= 'python-ks-11'\n",
    "clas= 'python-ks-12'\n",
    "print(clas, clas)"
   ]
  },
  {
   "cell_type": "code",
   "execution_count": 17,
   "id": "43b04eca",
   "metadata": {},
   "outputs": [
    {
     "name": "stdout",
     "output_type": "stream",
     "text": [
      "-65\n",
      "115\n",
      "0.2777777777777778\n",
      "2250\n",
      "0\n"
     ]
    }
   ],
   "source": [
    "c = 25\n",
    "d = 90\n",
    "print (c-d)\n",
    "print (c+d)\n",
    "print (c/d)\n",
    "print (c*d)\n",
    "print (c//d)"
   ]
  },
  {
   "cell_type": "code",
   "execution_count": 18,
   "id": "0ca9e312",
   "metadata": {},
   "outputs": [
    {
     "name": "stdout",
     "output_type": "stream",
     "text": [
      "2.6666666666666665\n",
      "2\n"
     ]
    }
   ],
   "source": [
    "print(8/3)\n",
    "print(8%3)"
   ]
  },
  {
   "cell_type": "code",
   "execution_count": 19,
   "id": "9a229733",
   "metadata": {},
   "outputs": [
    {
     "name": "stdout",
     "output_type": "stream",
     "text": [
      "125\n"
     ]
    }
   ],
   "source": [
    "print(5**3)"
   ]
  },
  {
   "cell_type": "markdown",
   "id": "d9c79a77",
   "metadata": {},
   "source": [
    "assigment"
   ]
  },
  {
   "cell_type": "code",
   "execution_count": 21,
   "id": "b6d70486",
   "metadata": {},
   "outputs": [
    {
     "name": "stdout",
     "output_type": "stream",
     "text": [
      "48.66666666666667\n"
     ]
    }
   ],
   "source": [
    "c = 30\n",
    "f = c *(5/9)+32\n",
    "print(f)"
   ]
  },
  {
   "cell_type": "code",
   "execution_count": 23,
   "id": "ec9b84e8",
   "metadata": {},
   "outputs": [
    {
     "name": "stdout",
     "output_type": "stream",
     "text": [
      "True\n",
      "True\n",
      "False\n",
      "False\n",
      "False\n",
      "True\n"
     ]
    }
   ],
   "source": [
    "a = 15\n",
    "b = 12\n",
    "c = 15\n",
    "print (c>b)\n",
    "print (a==c)\n",
    "print (a==b)\n",
    "print (a<c)\n",
    "print (c!=a)\n",
    "print (a!=b)"
   ]
  },
  {
   "cell_type": "code",
   "execution_count": 41,
   "id": "ae835fec",
   "metadata": {},
   "outputs": [
    {
     "name": "stdout",
     "output_type": "stream",
     "text": [
      "Teknik InformatikaTeknik InformatikaTeknik InformatikaTeknik InformatikaTeknik Informatika\n",
      "Teknik InformatikaJurusan Teknologi Informasifakultas teknik\n",
      "TEKNIK INFORMATIKA\n",
      "teknik informatika\n",
      "Teknik Informatika\n",
      "tEKNIK iNFORMATIKA\n"
     ]
    }
   ],
   "source": [
    "a = 'Teknik Informatika'\n",
    "b = 'Jurusan Teknologi Informasi'\n",
    "c = 'fakultas teknik'\n",
    "print (a*5)\n",
    "print(a+b+c)\n",
    "print(a.upper())\n",
    "print(a.lower())\n",
    "print(a.title())\n",
    "print(a.swapcase())"
   ]
  },
  {
   "cell_type": "code",
   "execution_count": 40,
   "id": "d1d7ec97",
   "metadata": {},
   "outputs": [
    {
     "name": "stdout",
     "output_type": "stream",
     "text": [
      "True\n",
      "False\n",
      "HEWAN\n",
      "hewan\n",
      "Hewan\n",
      "HEWAN\n"
     ]
    }
   ],
   "source": [
    "a ='hewan'\n",
    "print(a in 'harimau hewan karnivora')\n",
    "print (a in 'harimau pemakan daging')\n",
    "print(a.upper())\n",
    "print(a.lower())\n",
    "print(a.title())\n",
    "print(a.swapcase())\n"
   ]
  },
  {
   "cell_type": "code",
   "execution_count": 39,
   "id": "8949d495",
   "metadata": {},
   "outputs": [
    {
     "name": "stdout",
     "output_type": "stream",
     "text": [
      "sipil\n"
     ]
    }
   ],
   "source": [
    "a = ['Teknik', 'Informatika', 'sipil', 1, 5.7]\n",
    "print (a[2])"
   ]
  },
  {
   "cell_type": "code",
   "execution_count": 46,
   "id": "6ca250bc",
   "metadata": {},
   "outputs": [
    {
     "name": "stdout",
     "output_type": "stream",
     "text": [
      "['Teknologi', 'Informasi']\n"
     ]
    }
   ],
   "source": [
    "b = ['Jurusan', 'Teknologi', 'Informasi']\n",
    "print(b[1:])"
   ]
  },
  {
   "cell_type": "code",
   "execution_count": 105,
   "id": "a90e867b",
   "metadata": {},
   "outputs": [
    {
     "name": "stdout",
     "output_type": "stream",
     "text": [
      "omi\n",
      "i\n",
      "tmen\n",
      "kmte\n",
      "kmtn\n",
      "kmtn\n"
     ]
    }
   ],
   "source": [
    "a = 'komitmen'\n",
    "print (a[1:4])\n",
    "print (a[3])\n",
    "print (a[4:])\n",
    "print (a[::2])\n",
    "print (a[0]+a[2]+a[4]+a[7])\n",
    "print (a[0:5:2]+a[a.index('n')])"
   ]
  },
  {
   "cell_type": "code",
   "execution_count": null,
   "id": "1561fb58",
   "metadata": {},
   "outputs": [],
   "source": [
    "b = ['Jurusan', 'Teknologi', 'Informasi']"
   ]
  },
  {
   "cell_type": "code",
   "execution_count": null,
   "id": "733efd2e",
   "metadata": {},
   "outputs": [],
   "source": []
  }
 ],
 "metadata": {
  "kernelspec": {
   "display_name": "Python 3 (ipykernel)",
   "language": "python",
   "name": "python3"
  },
  "language_info": {
   "codemirror_mode": {
    "name": "ipython",
    "version": 3
   },
   "file_extension": ".py",
   "mimetype": "text/x-python",
   "name": "python",
   "nbconvert_exporter": "python",
   "pygments_lexer": "ipython3",
   "version": "3.9.13"
  }
 },
 "nbformat": 4,
 "nbformat_minor": 5
}
